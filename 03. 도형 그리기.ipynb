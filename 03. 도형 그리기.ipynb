{
 "cells": [
  {
   "cell_type": "markdown",
   "id": "940d798e",
   "metadata": {},
   "source": [
    "# 3. 도형 그리기"
   ]
  },
  {
   "cell_type": "markdown",
   "id": "e2f1ba68",
   "metadata": {},
   "source": [
    "## 빈 스케치북 만들기"
   ]
  },
  {
   "cell_type": "code",
   "execution_count": 8,
   "id": "d6a3cbfd",
   "metadata": {},
   "outputs": [],
   "source": [
    "import cv2\n",
    "import numpy as np\n",
    "\n",
    "# 세로 480 x 가로 640  3channel  #RGB에 해당하는 스케치북\n",
    "img = np.zeros((480,640,3), dtype=np.uint8)\n",
    "# img[:]=(0, 255, 255)\n",
    "# print(img)\n",
    "cv2.imshow('img', img)\n",
    "cv2.waitKey(0)\n",
    "cv2.destroyAllWindows()"
   ]
  },
  {
   "cell_type": "markdown",
   "id": "292d3f35",
   "metadata": {},
   "source": [
    "## 일부 영역 색칠"
   ]
  },
  {
   "cell_type": "code",
   "execution_count": 11,
   "id": "1630769f",
   "metadata": {},
   "outputs": [],
   "source": [
    "import cv2\n",
    "import numpy as np\n",
    "\n",
    "img = np.zeros((480,640,3), dtype=np.uint8)\n",
    "img[100:200, 200:300] = (255, 255, 255)\n",
    "# 세로영역, 가로영역\n",
    "\n",
    "cv2.imshow('img', img)\n",
    "cv2.waitKey(0)\n",
    "cv2.destroyAllWindows()"
   ]
  },
  {
   "cell_type": "markdown",
   "id": "0855862a",
   "metadata": {},
   "source": [
    "## 직선\n",
    "직선의 종류 \n",
    "\n",
    "1. cv2.LINE_4 :상하좌우 4방향\n",
    "1. cv2.LINE_8 :대각선을 포함한 8방향 (기본값)\n",
    "1. cv2.LINE_AA  :부드러운 선"
   ]
  },
  {
   "cell_type": "code",
   "execution_count": 15,
   "id": "f195046c",
   "metadata": {},
   "outputs": [],
   "source": [
    "import cv2\n",
    "import numpy as np\n",
    "\n",
    "img = np.zeros((480,640,3), dtype=np.uint8)\n",
    "\n",
    "COLOR = (0, 255, 255)\n",
    "THINCKNESS = 3\n",
    "\n",
    "cv2.line(img, (50,100), (400,50), COLOR, THINCKNESS, cv2.LINE_8)\n",
    "# 그림위치,     시작점,    끝점,    색깔,   두께,      선종류\n",
    "cv2.line(img, (50,200), (400,150), COLOR, THINCKNESS, cv2.LINE_4)\n",
    "cv2.line(img, (50,300), (400,250), COLOR, THINCKNESS, cv2.LINE_AA)\n",
    "\n",
    "cv2.imshow('img', img)\n",
    "cv2.waitKey(0)\n",
    "cv2.destroyAllWindows()"
   ]
  },
  {
   "cell_type": "markdown",
   "id": "9a569f29",
   "metadata": {},
   "source": [
    "## 원"
   ]
  },
  {
   "cell_type": "code",
   "execution_count": 18,
   "id": "1765e57a",
   "metadata": {},
   "outputs": [],
   "source": [
    "import cv2\n",
    "import numpy as np\n",
    "\n",
    "img = np.zeros((480,640,3), dtype=np.uint8)\n",
    "\n",
    "COLOR = (255, 255, 0)\n",
    "RADIUS = 50\n",
    "THINCKNESS = 10\n",
    "\n",
    "cv2.circle(img, (200,100), RADIUS, COLOR, THINCKNESS, cv2.LINE_AA) #속이 빈 원\n",
    "#         그릴위치   원의중심  반지름 컬러    두께        선종류\n",
    "cv2.circle(img, (400,100), RADIUS, COLOR, cv2.FILLED, cv2.LINE_AA) #속이 꽉찬 원\n",
    "\n",
    "cv2.imshow('img', img)\n",
    "cv2.waitKey(0)\n",
    "cv2.destroyAllWindows()"
   ]
  },
  {
   "cell_type": "markdown",
   "id": "6df8b5c0",
   "metadata": {},
   "source": [
    "## 사각형"
   ]
  },
  {
   "cell_type": "code",
   "execution_count": 21,
   "id": "f49d8370",
   "metadata": {},
   "outputs": [],
   "source": [
    "import cv2\n",
    "import numpy as np\n",
    "\n",
    "img = np.zeros((480,640,3), dtype=np.uint8)\n",
    "\n",
    "COLOR = (0, 255, 0)\n",
    "THINCKNESS = 3\n",
    "\n",
    "cv2.rectangle(img, (100, 100), (200, 200), COLOR, THINCKNESS) # 속이 빈 사각형\n",
    "#             그릴위치 윈쪽위좌표 오른쪽위좌표\n",
    "cv2.rectangle(img, (300, 100), (400, 300), COLOR, cv2.FILLED) # 속이 꽉찬 사각형\n",
    "\n",
    "cv2.imshow('img', img)\n",
    "cv2.waitKey(0)\n",
    "cv2.destroyAllWindows()"
   ]
  },
  {
   "cell_type": "markdown",
   "id": "0a5c0ca2",
   "metadata": {},
   "source": [
    "## 다각형"
   ]
  },
  {
   "cell_type": "code",
   "execution_count": 14,
   "id": "325485f9",
   "metadata": {},
   "outputs": [],
   "source": [
    "import cv2\n",
    "import numpy as np\n",
    "\n",
    "img = np.zeros((480,640,3), dtype=np.uint8)\n",
    "\n",
    "COLOR = (0, 255, 255)\n",
    "THINCKNESS = 3\n",
    "\n",
    "pts1 = np.array([[100,100],[200,100],[100,200]])\n",
    "pts2 = np.array([[200, 100],[300,100],[300,200]])\n",
    "\n",
    "# cv2.polylines(img, [pts1], True, COLOR, THINCKNESS, cv2.LINE_AA)\n",
    "# cv2.polylines(img, [pts2], True, COLOR, THINCKNESS, cv2.LINE_AA)\n",
    "cv2.polylines(img, [pts1,pts2], True, COLOR, THINCKNESS, cv2.LINE_AA)\n",
    "#         그릴위치   그릴좌표 닫힘여부 색  두께          선종류\n",
    "\n",
    "pts3 = np.array([[[100,300],[200,300],[100,400]],[[200,300],[300,300],[300,400]]])\n",
    "cv2.fillPoly(img, pts3, COLOR, cv2.LINE_AA)\n",
    "#         그릴위치 그릴좌표 색깔 선종류\n",
    "\n",
    "cv2.imshow('img', img)\n",
    "cv2.waitKey(0)\n",
    "cv2.destroyAllWindows()"
   ]
  },
  {
   "cell_type": "code",
   "execution_count": 15,
   "id": "d4209cf8",
   "metadata": {},
   "outputs": [
    {
     "data": {
      "application/javascript": [
       "IPython.notebook.set_autosave_interval(0)"
      ]
     },
     "metadata": {},
     "output_type": "display_data"
    },
    {
     "name": "stdout",
     "output_type": "stream",
     "text": [
      "Autosave disabled\n"
     ]
    }
   ],
   "source": [
    "%autosave 0"
   ]
  }
 ],
 "metadata": {
  "kernelspec": {
   "display_name": "Python 3 (ipykernel)",
   "language": "python",
   "name": "python3"
  },
  "language_info": {
   "codemirror_mode": {
    "name": "ipython",
    "version": 3
   },
   "file_extension": ".py",
   "mimetype": "text/x-python",
   "name": "python",
   "nbconvert_exporter": "python",
   "pygments_lexer": "ipython3",
   "version": "3.10.9"
  }
 },
 "nbformat": 4,
 "nbformat_minor": 5
}
