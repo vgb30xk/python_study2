{
 "cells": [
  {
   "cell_type": "code",
   "execution_count": 11,
   "id": "43436486",
   "metadata": {},
   "outputs": [
    {
     "data": {
      "application/javascript": [
       "IPython.notebook.set_autosave_interval(0)"
      ]
     },
     "metadata": {},
     "output_type": "display_data"
    },
    {
     "name": "stdout",
     "output_type": "stream",
     "text": [
      "Autosave disabled\n"
     ]
    }
   ],
   "source": [
    "%autosave 0"
   ]
  },
  {
   "cell_type": "markdown",
   "id": "3eeda5e4",
   "metadata": {},
   "source": [
    "# 12. 이미지 변형(원근)"
   ]
  },
  {
   "cell_type": "markdown",
   "id": "3195c9af",
   "metadata": {},
   "source": [
    "## 사다리꼴 이미지 펼치기"
   ]
  },
  {
   "cell_type": "code",
   "execution_count": 4,
   "id": "f8f88667",
   "metadata": {},
   "outputs": [],
   "source": [
    "import cv2\n",
    "import numpy as np\n",
    "img = cv2.imread('newspaper.jpg')\n",
    "\n",
    "width, height= 640, 240\n",
    "\n",
    "src = np.array([[511,352],[1008,345],[1122,584],[455, 594]], dtype= np.float32) # input 4개 지점\n",
    "dst = np.array([[0,0],[width,0],[width,height],[0,height]], dtype= np.float32)\n",
    "#                 좌상,   우상,      우하,        좌하 (시계방향으로)\n",
    "\n",
    "matrix= cv2.getPerspectiveTransform(src, dst) # matrix 얻어옴\n",
    "result = cv2.warpPerspective(img, matrix, (width, height)) # matrix대로 변환함\n",
    "\n",
    "cv2.imshow('img', img)\n",
    "cv2.imshow('result', result)\n",
    "cv2.waitKey(0)\n",
    "cv2.destroyAllWindows()"
   ]
  },
  {
   "cell_type": "markdown",
   "id": "385fddaf",
   "metadata": {},
   "source": [
    "## 회전된 이미지 올바로 세우기"
   ]
  },
  {
   "cell_type": "code",
   "execution_count": 5,
   "id": "6ef72a4c",
   "metadata": {},
   "outputs": [],
   "source": [
    "import cv2\n",
    "import numpy as np\n",
    "img = cv2.imread('poker.jpg')\n",
    "\n",
    "width, height= 530, 710\n",
    "\n",
    "src = np.array([[702,143],[1133,414],[726,1007],[276,700]], dtype= np.float32) # input 4개 지점\n",
    "dst = np.array([[0,0],[width,0],[width,height],[0,height]], dtype= np.float32)\n",
    "#                 좌상,   우상,      우하,        좌하 (시계방향으로)\n",
    "\n",
    "matrix= cv2.getPerspectiveTransform(src, dst) # matrix 얻어옴\n",
    "result = cv2.warpPerspective(img, matrix, (width, height)) # matrix대로 변환함\n",
    "\n",
    "cv2.imshow('img', img)\n",
    "cv2.imshow('result', result)\n",
    "cv2.waitKey(0)\n",
    "cv2.destroyAllWindows()"
   ]
  },
  {
   "cell_type": "markdown",
   "id": "ad10ff5f",
   "metadata": {},
   "source": [
    "## 미니 프로젝트: 반자동 문서 스캐너"
   ]
  },
  {
   "cell_type": "markdown",
   "id": "a964e253",
   "metadata": {},
   "source": [
    "### 마우스 이벤트 등록"
   ]
  },
  {
   "cell_type": "code",
   "execution_count": 10,
   "id": "30308328",
   "metadata": {},
   "outputs": [
    {
     "name": "stdout",
     "output_type": "stream",
     "text": [
      "오른쪽 버튼 DOWN\n",
      "268 85\n",
      "왼쪽 버튼 DOWN\n",
      "582 103\n",
      "왼쪽 버튼 UP\n",
      "582 103\n",
      "왼쪽 버튼 DOWN\n",
      "582 103\n",
      "왼쪽 버튼 UP\n",
      "582 103\n",
      "왼쪽 버튼 Double Click\n",
      "왼쪽 버튼 UP\n",
      "582 103\n"
     ]
    }
   ],
   "source": [
    "import cv2\n",
    "\n",
    "def mouse_handler(event, x, y, flags, params):\n",
    "    if event == cv2.EVENT_LBUTTONDOWN:\n",
    "        print('왼쪽 버튼 DOWN')\n",
    "        print(x, y)\n",
    "    elif event == cv2.EVENT_LBUTTONUP:\n",
    "        print('왼쪽 버튼 UP')\n",
    "        print(x, y)\n",
    "    elif event == cv2.EVENT_LBUTTONDBLCLK:\n",
    "        print('왼쪽 버튼 Double Click')\n",
    "#     elif event == cv2.EVENT_MOUSEMOVE:\n",
    "#         print('마우스 이동')\n",
    "    elif event == cv2.EVENT_RBUTTONDOWN:\n",
    "        print('오른쪽 버튼 DOWN')\n",
    "        \n",
    "        \n",
    "img = cv2.imread('poker.jpg')\n",
    "cv2.namedWindow('img') # 이미지란 이름의 윈도우를 먼저 만들어둠\n",
    "cv2.setMouseCallback('img', mouse_handler)\n",
    "cv2.imshow('img', img)\n",
    "cv2.waitKey(0)\n",
    "cv2.destroyAllWindows()"
   ]
  },
  {
   "cell_type": "markdown",
   "id": "2701598e",
   "metadata": {},
   "source": [
    "### 프로젝트 "
   ]
  },
  {
   "cell_type": "code",
   "execution_count": 1,
   "id": "e3891e0b",
   "metadata": {},
   "outputs": [],
   "source": [
    "import cv2\n",
    "import numpy as np\n",
    "\n",
    "point_list= []\n",
    "src_img = cv2.imread('poker.jpg')\n",
    "\n",
    "COLOR= (255, 0, 255)\n",
    "THICKNESS = 3\n",
    "drawing = False\n",
    "\n",
    "def mouse_handler(event, x, y, flags, params):\n",
    "    global drawing\n",
    "    dst_img = src_img.copy()\n",
    "    \n",
    "    if event == cv2.EVENT_LBUTTONDOWN:\n",
    "        drawing = True\n",
    "        point_list.append((x,y))\n",
    "    \n",
    "    if drawing:\n",
    "        prev_point = None\n",
    "        for point in point_list:\n",
    "            cv2.circle(dst_img, point, 15, COLOR, cv2.FILLED)\n",
    "            if prev_point:\n",
    "                cv2.line(dst_img, prev_point, point, COLOR, THICKNESS, cv2.LINE_AA)\n",
    "            prev_point= point\n",
    "        \n",
    "        next_point = (x, y)\n",
    "        if len(point_list)==4:\n",
    "            show_result()\n",
    "            next_point = point_list[0]\n",
    "            \n",
    "        cv2.line(dst_img, prev_point, next_point, COLOR, THICKNESS, cv2.LINE_AA)\n",
    "              \n",
    "    cv2.imshow('img', dst_img)\n",
    "\n",
    "def show_result():\n",
    "    width, height= 530, 710\n",
    "    src = np.float32(point_list)\n",
    "    dst = np.array([[0,0],[width,0],[width,height],[0,height]], dtype= np.float32)\n",
    "\n",
    "    matrix= cv2.getPerspectiveTransform(src, dst) # matrix 얻어옴\n",
    "    result = cv2.warpPerspective(src_img, matrix, (width, height)) # matrix대로 변환함\n",
    "    cv2.imshow('result', result)\n",
    "\n",
    "    \n",
    "cv2.namedWindow('img') # 이미지란 이름의 윈도우를 먼저 만들어둠\n",
    "cv2.setMouseCallback('img', mouse_handler)\n",
    "cv2.imshow('img', src_img)\n",
    "cv2.waitKey(0)\n",
    "cv2.destroyAllWindows()\n"
   ]
  }
 ],
 "metadata": {
  "kernelspec": {
   "display_name": "Python 3 (ipykernel)",
   "language": "python",
   "name": "python3"
  },
  "language_info": {
   "codemirror_mode": {
    "name": "ipython",
    "version": 3
   },
   "file_extension": ".py",
   "mimetype": "text/x-python",
   "name": "python",
   "nbconvert_exporter": "python",
   "pygments_lexer": "ipython3",
   "version": "3.10.9"
  }
 },
 "nbformat": 4,
 "nbformat_minor": 5
}
