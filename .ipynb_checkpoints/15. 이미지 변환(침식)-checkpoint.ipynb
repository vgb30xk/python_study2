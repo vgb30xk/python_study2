{
 "cells": [
  {
   "cell_type": "code",
   "execution_count": 1,
   "id": "ba8a0e64",
   "metadata": {},
   "outputs": [
    {
     "data": {
      "application/javascript": [
       "IPython.notebook.set_autosave_interval(0)"
      ]
     },
     "metadata": {},
     "output_type": "display_data"
    },
    {
     "name": "stdout",
     "output_type": "stream",
     "text": [
      "Autosave disabled\n"
     ]
    }
   ],
   "source": [
    "%autosave 0"
   ]
  },
  {
   "cell_type": "markdown",
   "id": "1f7105d5",
   "metadata": {},
   "source": [
    "# 15. 이미지 변환(침식)"
   ]
  },
  {
   "cell_type": "markdown",
   "id": "45e88673",
   "metadata": {},
   "source": [
    "## 이미지를 깍아서 노이즈 제거\n",
    "흰색 영역의 외각 픽셀을 검은색으로 변경"
   ]
  },
  {
   "cell_type": "code",
   "execution_count": 2,
   "id": "b78f4ac1",
   "metadata": {},
   "outputs": [],
   "source": [
    "import cv2\n",
    "import numpy as np\n",
    "\n",
    "kernel = np.ones((3,3), dtype=np.uint8)\n",
    "\n",
    "img = cv2.imread('erode.png', cv2.IMREAD_GRAYSCALE)\n",
    "erode1 = cv2.erode(img, kernel, iterations=1)\n",
    "erode2 = cv2.erode(img, kernel, iterations=2)\n",
    "erode3 = cv2.erode(img, kernel, iterations=3)\n",
    "\n",
    "cv2.imshow('gray', img)\n",
    "cv2.imshow('erode1', erode1)\n",
    "cv2.imshow('erode2', erode2)\n",
    "cv2.imshow('erode3', erode3)\n",
    "\n",
    "cv2.waitKey(0)\n",
    "cv2.destroyAllWindows()"
   ]
  }
 ],
 "metadata": {
  "kernelspec": {
   "display_name": "Python 3 (ipykernel)",
   "language": "python",
   "name": "python3"
  },
  "language_info": {
   "codemirror_mode": {
    "name": "ipython",
    "version": 3
   },
   "file_extension": ".py",
   "mimetype": "text/x-python",
   "name": "python",
   "nbconvert_exporter": "python",
   "pygments_lexer": "ipython3",
   "version": "3.10.9"
  }
 },
 "nbformat": 4,
 "nbformat_minor": 5
}
