{
 "cells": [
  {
   "cell_type": "code",
   "execution_count": 1,
   "id": "3c1b073b",
   "metadata": {},
   "outputs": [
    {
     "data": {
      "application/javascript": [
       "IPython.notebook.set_autosave_interval(0)"
      ]
     },
     "metadata": {},
     "output_type": "display_data"
    },
    {
     "name": "stdout",
     "output_type": "stream",
     "text": [
      "Autosave disabled\n"
     ]
    }
   ],
   "source": [
    "%autosave 0"
   ]
  },
  {
   "cell_type": "markdown",
   "id": "362938cc",
   "metadata": {},
   "source": [
    "# 4. 텍스트 "
   ]
  },
  {
   "cell_type": "markdown",
   "id": "6c80dd2b",
   "metadata": {},
   "source": [
    "## OpenCV에서 사용하는 글꼴 종류\n",
    "1. cv2.FONT_HERSHEY_SIMPLEX : 보통 크기의 산 세리프\n",
    "1. cv2.FONT_HERSHEY_PLAIN : 작은 크기의 산 세리프\n",
    "1. cv2.FONT_HERSHEY_SCRIPT_SIMPLEX : 필기체 스타일\n",
    "1. cv2.FONT_HERSHEY_TRIPLEX : 보통 크기의 세리프\n",
    "1. cv2.FONT_ITALIC : 기울임"
   ]
  },
  {
   "cell_type": "code",
   "execution_count": 2,
   "id": "6cbfbc1e",
   "metadata": {},
   "outputs": [],
   "source": [
    "import numpy as np\n",
    "import cv2\n",
    "\n",
    "img = np.zeros((480,640,3), dtype=np.uint8)\n",
    "\n",
    "SCALE= 1\n",
    "COLOR = (255, 255, 255)\n",
    "THICNKNESS = 1\n",
    "\n",
    "cv2.putText(img, \"Jaehyun Simplex\", (20, 50), cv2.FONT_HERSHEY_SIMPLEX, SCALE, COLOR, THICNKNESS)\n",
    "#         그릴위치    텍스트내용     시작위치    폰트종류                크기   색     두께\n",
    "cv2.putText(img, \"Jaehyun Plain\", (20, 150), cv2.FONT_HERSHEY_PLAIN, SCALE, COLOR, THICNKNESS)\n",
    "cv2.putText(img, \"Jaehyun Script Simplex\", (20, 250), cv2.FONT_HERSHEY_SCRIPT_SIMPLEX, SCALE, COLOR, THICNKNESS)\n",
    "cv2.putText(img, \"Jaehyun Triplex\", (20, 350), cv2.FONT_HERSHEY_TRIPLEX, SCALE, COLOR, THICNKNESS)\n",
    "cv2.putText(img, \"Jaehyun Italic\", (20, 450), cv2.FONT_HERSHEY_TRIPLEX | cv2.FONT_ITALIC, SCALE, COLOR, THICNKNESS)\n",
    "\n",
    "cv2.imshow('img', img)\n",
    "cv2.waitKey(0)\n",
    "cv2.destroyAllWindows()"
   ]
  },
  {
   "cell_type": "markdown",
   "id": "2337f234",
   "metadata": {},
   "source": [
    "## 한글\n",
    "한글 우회 방법"
   ]
  },
  {
   "cell_type": "code",
   "execution_count": 11,
   "id": "14988826",
   "metadata": {},
   "outputs": [],
   "source": [
    "import numpy as np\n",
    "import cv2\n",
    "# PIL (Python Image Library)\n",
    "from PIL import ImageFont, ImageDraw, Image\n",
    "\n",
    "def myPutText(src, text, pos, font_size, font_color):\n",
    "    img_pil = Image.fromarray(src)\n",
    "    draw = ImageDraw.Draw(img_pil)\n",
    "    font= ImageFont.truetype('fonts/gulim.ttc', font_size)\n",
    "    draw.text(pos, text, font=font, fill=font_color)\n",
    "    return np.array(img_pil)\n",
    "    \n",
    "\n",
    "img = np.zeros((480,640,3), dtype=np.uint8)\n",
    "\n",
    "FONT_SIZE = 30\n",
    "COLOR = (255, 255, 255)\n",
    "\n",
    "\n",
    "# cv2.putText(img, \"나도코딩\", (20, 50), cv2.FONT_HERSHEY_SIMPLEX, SCALE, COLOR, THICNKNESS)\n",
    "#         그릴위치    텍스트내용     시작위치    폰트종류                크기   색     두께\n",
    "img = myPutText(img, \"재현코딩\", (20,50), FONT_SIZE, COLOR)\n",
    "\n",
    "cv2.imshow('img', img)\n",
    "cv2.waitKey(0)\n",
    "cv2.destroyAllWindows()"
   ]
  }
 ],
 "metadata": {
  "kernelspec": {
   "display_name": "Python 3 (ipykernel)",
   "language": "python",
   "name": "python3"
  },
  "language_info": {
   "codemirror_mode": {
    "name": "ipython",
    "version": 3
   },
   "file_extension": ".py",
   "mimetype": "text/x-python",
   "name": "python",
   "nbconvert_exporter": "python",
   "pygments_lexer": "ipython3",
   "version": "3.10.9"
  }
 },
 "nbformat": 4,
 "nbformat_minor": 5
}
