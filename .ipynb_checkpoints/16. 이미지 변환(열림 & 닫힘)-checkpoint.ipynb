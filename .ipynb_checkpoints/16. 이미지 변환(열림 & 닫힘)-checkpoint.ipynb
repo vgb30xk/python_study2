{
 "cells": [
  {
   "cell_type": "code",
   "execution_count": 1,
   "id": "8a1399c5",
   "metadata": {},
   "outputs": [
    {
     "data": {
      "application/javascript": [
       "IPython.notebook.set_autosave_interval(0)"
      ]
     },
     "metadata": {},
     "output_type": "display_data"
    },
    {
     "name": "stdout",
     "output_type": "stream",
     "text": [
      "Autosave disabled\n"
     ]
    }
   ],
   "source": [
    "%autosave 0"
   ]
  },
  {
   "cell_type": "markdown",
   "id": "e3d7e299",
   "metadata": {},
   "source": [
    "# 16. 이미지 변환(열림 & 닫힘)"
   ]
  },
  {
   "cell_type": "markdown",
   "id": "784efc3d",
   "metadata": {},
   "source": [
    "## 열림(Opening): 침식 후 팽창, 깍아서 노이즈 제거 후 살 찌움\n",
    "> dilate(erode(image))"
   ]
  },
  {
   "cell_type": "code",
   "execution_count": 3,
   "id": "d4e0ad6a",
   "metadata": {},
   "outputs": [],
   "source": [
    "import cv2\n",
    "import numpy as np\n",
    "kernel = np.ones((3,3), dtype=np.uint8)\n",
    "\n",
    "img = cv2.imread('erode.png', cv2.IMREAD_GRAYSCALE)\n",
    "\n",
    "erode = cv2.erode(img, kernel, iterations=3)\n",
    "dilate= cv2.dilate(erode,  kernel, iterations=3)\n",
    "\n",
    "cv2.imshow('img', img)\n",
    "cv2.imshow('erode', erode)\n",
    "cv2.imshow('dilate', dilate)\n",
    "cv2.waitKey(0)\n",
    "cv2.destroyAllWindows()"
   ]
  },
  {
   "cell_type": "markdown",
   "id": "571d84cd",
   "metadata": {},
   "source": [
    "## 닫힘(Closing) : 팽창 후 침식, 구멍을 메운 후 다시 깎음\n",
    ">erode(dilate(image))"
   ]
  },
  {
   "cell_type": "code",
   "execution_count": 4,
   "id": "b72933c7",
   "metadata": {},
   "outputs": [],
   "source": [
    "import cv2\n",
    "import numpy as np\n",
    "kernel = np.ones((3,3), dtype=np.uint8)\n",
    "\n",
    "img = cv2.imread('dilate.png', cv2.IMREAD_GRAYSCALE)\n",
    "\n",
    "dilate= cv2.dilate(img,  kernel, iterations=3)\n",
    "erode = cv2.erode(dilate, kernel, iterations=3)\n",
    "\n",
    "cv2.imshow('img', img)\n",
    "cv2.imshow('erode', erode)\n",
    "cv2.imshow('dilate', dilate)\n",
    "cv2.waitKey(0)\n",
    "cv2.destroyAllWindows()"
   ]
  }
 ],
 "metadata": {
  "kernelspec": {
   "display_name": "Python 3 (ipykernel)",
   "language": "python",
   "name": "python3"
  },
  "language_info": {
   "codemirror_mode": {
    "name": "ipython",
    "version": 3
   },
   "file_extension": ".py",
   "mimetype": "text/x-python",
   "name": "python",
   "nbconvert_exporter": "python",
   "pygments_lexer": "ipython3",
   "version": "3.10.9"
  }
 },
 "nbformat": 4,
 "nbformat_minor": 5
}
