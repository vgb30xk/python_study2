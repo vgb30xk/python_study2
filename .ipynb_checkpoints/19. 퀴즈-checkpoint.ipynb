{
 "cells": [
  {
   "cell_type": "code",
   "execution_count": 1,
   "id": "730b32b0",
   "metadata": {},
   "outputs": [
    {
     "data": {
      "application/javascript": [
       "IPython.notebook.set_autosave_interval(0)"
      ]
     },
     "metadata": {},
     "output_type": "display_data"
    },
    {
     "name": "stdout",
     "output_type": "stream",
     "text": [
      "Autosave disabled\n"
     ]
    }
   ],
   "source": [
    "%autosave 0"
   ]
  },
  {
   "cell_type": "markdown",
   "id": "500f9996",
   "metadata": {},
   "source": [
    "# 퀴즈\n",
    "## OpenCV 를 이용하여 가로로 촬영된 영상을 세로로 회전하는 프로그램을 작성하시오"
   ]
  },
  {
   "cell_type": "markdown",
   "id": "176c2a68",
   "metadata": {},
   "source": [
    "### 조건\n",
    "1. 회전 : 시계 반대 방향으로 90도\n",
    "1. 재생속도(FPS) : 원본의 4배\n",
    "1. 출력 파일명: city_output.avi\n",
    "\n",
    "- 원본 파일명: city.mp4"
   ]
  },
  {
   "cell_type": "code",
   "execution_count": 10,
   "id": "6ed0af19",
   "metadata": {},
   "outputs": [],
   "source": [
    "import cv2\n",
    "cap = cv2.VideoCapture('city.mp4')\n",
    "\n",
    "fourcc = cv2.VideoWriter_fourcc(*'DIVX')\n",
    "\n",
    "width = round(cap.get(cv2.CAP_PROP_FRAME_HEIGHT))\n",
    "height = round(cap.get(cv2.CAP_PROP_FRAME_WIDTH))\n",
    "fps = cap.get(cv2.CAP_PROP_FPS) * 4\n",
    "\n",
    "out= cv2.VideoWriter('only_output.avi', fourcc, fps, (width, height))\n",
    "#                      저장파일명    코덱  fps      크기\n",
    "\n",
    "while cap.isOpened():\n",
    "    ret, frame = cap.read()\n",
    "    \n",
    "    if not ret:\n",
    "        break\n",
    "    \n",
    "    frame = cv2.rotate(frame, cv2.ROTATE_90_COUNTERCLOCKWISE)\n",
    "    out.write(frame)\n",
    "    cv2.imshow('video', frame)\n",
    "    \n",
    "    if cv2.waitKey(30) == ord('q'):\n",
    "        break\n",
    "        \n",
    "out.release()\n",
    "cap.release()\n",
    "cv2.destroyAllWindows()"
   ]
  }
 ],
 "metadata": {
  "kernelspec": {
   "display_name": "Python 3 (ipykernel)",
   "language": "python",
   "name": "python3"
  },
  "language_info": {
   "codemirror_mode": {
    "name": "ipython",
    "version": 3
   },
   "file_extension": ".py",
   "mimetype": "text/x-python",
   "name": "python",
   "nbconvert_exporter": "python",
   "pygments_lexer": "ipython3",
   "version": "3.10.9"
  }
 },
 "nbformat": 4,
 "nbformat_minor": 5
}
