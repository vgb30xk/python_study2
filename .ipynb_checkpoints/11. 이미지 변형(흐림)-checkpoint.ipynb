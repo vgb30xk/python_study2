{
 "cells": [
  {
   "cell_type": "code",
   "execution_count": 2,
   "id": "8b616903",
   "metadata": {},
   "outputs": [
    {
     "data": {
      "application/javascript": [
       "IPython.notebook.set_autosave_interval(0)"
      ]
     },
     "metadata": {},
     "output_type": "display_data"
    },
    {
     "name": "stdout",
     "output_type": "stream",
     "text": [
      "Autosave disabled\n"
     ]
    }
   ],
   "source": [
    "%autosave 0"
   ]
  },
  {
   "cell_type": "markdown",
   "id": "27d73e24",
   "metadata": {},
   "source": [
    "# 11. 이미지 변형(흐림)"
   ]
  },
  {
   "cell_type": "markdown",
   "id": "ed6d3789",
   "metadata": {},
   "source": [
    "## 가우시안 블러"
   ]
  },
  {
   "cell_type": "markdown",
   "id": "bd4a2673",
   "metadata": {},
   "source": [
    "커널 사이즈 변화에 따른 흐림"
   ]
  },
  {
   "cell_type": "code",
   "execution_count": 5,
   "id": "b4e09963",
   "metadata": {},
   "outputs": [],
   "source": [
    "import cv2\n",
    "img = cv2.imread('img.jpg')\n",
    "\n",
    "kernel_3 = cv2.GaussianBlur(img, (3,3), 0)\n",
    "kernel_5 = cv2.GaussianBlur(img, (5,5), 0)\n",
    "kernel_7 = cv2.GaussianBlur(img, (7,7), 0)\n",
    "\n",
    "cv2.imshow('img', img)\n",
    "cv2.imshow('kernel_3', kernel_3)\n",
    "cv2.imshow('kernel_5', kernel_5)\n",
    "cv2.imshow('kernel_7', kernel_7)\n",
    "\n",
    "cv2.waitKey(0)\n",
    "cv2.destroyAllWindows()"
   ]
  },
  {
   "cell_type": "markdown",
   "id": "aeff9731",
   "metadata": {},
   "source": [
    "표준 편차 변화에 따른 흐림"
   ]
  },
  {
   "cell_type": "code",
   "execution_count": 6,
   "id": "ffa9dac4",
   "metadata": {},
   "outputs": [],
   "source": [
    "import cv2\n",
    "img = cv2.imread('img.jpg')\n",
    "\n",
    "sigma_1 = cv2.GaussianBlur(img, (0,0), 1) # 시그마X - 가우시안 커널의 x방향의 표준편차\n",
    "sigma_2 = cv2.GaussianBlur(img, (0,0), 2)\n",
    "sigma_3 = cv2.GaussianBlur(img, (0,0), 3)\n",
    "\n",
    "cv2.imshow('img', img)\n",
    "cv2.imshow('sigma_1', sigma_1)\n",
    "cv2.imshow('sigma_2', sigma_2)\n",
    "cv2.imshow('sigma_3', sigma_3)\n",
    "\n",
    "cv2.waitKey(0)\n",
    "cv2.destroyAllWindows()"
   ]
  }
 ],
 "metadata": {
  "kernelspec": {
   "display_name": "Python 3 (ipykernel)",
   "language": "python",
   "name": "python3"
  },
  "language_info": {
   "codemirror_mode": {
    "name": "ipython",
    "version": 3
   },
   "file_extension": ".py",
   "mimetype": "text/x-python",
   "name": "python",
   "nbconvert_exporter": "python",
   "pygments_lexer": "ipython3",
   "version": "3.10.9"
  }
 },
 "nbformat": 4,
 "nbformat_minor": 5
}
