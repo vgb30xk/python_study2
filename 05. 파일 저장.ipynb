{
 "cells": [
  {
   "cell_type": "code",
   "execution_count": 1,
   "id": "72353c46",
   "metadata": {},
   "outputs": [
    {
     "data": {
      "application/javascript": [
       "IPython.notebook.set_autosave_interval(0)"
      ]
     },
     "metadata": {},
     "output_type": "display_data"
    },
    {
     "name": "stdout",
     "output_type": "stream",
     "text": [
      "Autosave disabled\n"
     ]
    }
   ],
   "source": [
    "%autosave 0"
   ]
  },
  {
   "cell_type": "markdown",
   "id": "c99d8e26",
   "metadata": {},
   "source": [
    "# 5. 파일저장"
   ]
  },
  {
   "cell_type": "markdown",
   "id": "1d1865d8",
   "metadata": {},
   "source": [
    "## 이미지 저장"
   ]
  },
  {
   "cell_type": "code",
   "execution_count": 3,
   "id": "6df215c4",
   "metadata": {},
   "outputs": [
    {
     "name": "stdout",
     "output_type": "stream",
     "text": [
      "True\n"
     ]
    }
   ],
   "source": [
    "import cv2\n",
    "img= cv2.imread('img.jpg', cv2.IMREAD_GRAYSCALE)\n",
    "cv2.imshow('img',img)\n",
    "cv2.waitKey(0)\n",
    "cv2.destroyAllWindows()\n",
    "\n",
    "result = cv2.imwrite('img_save.jpg', img)\n",
    "print(result)"
   ]
  },
  {
   "cell_type": "markdown",
   "id": "2ea84f2f",
   "metadata": {},
   "source": [
    "### 저장 포맷(jpg, png)"
   ]
  },
  {
   "cell_type": "code",
   "execution_count": 7,
   "id": "71187cef",
   "metadata": {},
   "outputs": [],
   "source": [
    "import cv2\n",
    "img= cv2.imread('img.jpg', cv2.IMREAD_GRAYSCALE)\n",
    "result = cv2.imwrite('img_save.png', img)"
   ]
  },
  {
   "cell_type": "markdown",
   "id": "6e8f9ff4",
   "metadata": {},
   "source": [
    "## 동영상 저장"
   ]
  },
  {
   "cell_type": "code",
   "execution_count": 13,
   "id": "8c79a957",
   "metadata": {},
   "outputs": [],
   "source": [
    "import cv2\n",
    "cap = cv2.VideoCapture('video.mp4')\n",
    "\n",
    "# 코덱 정의\n",
    "fourcc = cv2.VideoWriter_fourcc(*'DIVX')\n",
    "\n",
    "# 프레임 크기, FPS\n",
    "\n",
    "width = round(cap.get(cv2.CAP_PROP_FRAME_WIDTH))\n",
    "height = round(cap.get(cv2.CAP_PROP_FRAME_HEIGHT))\n",
    "fps = cap.get(cv2.CAP_PROP_FPS) *2\n",
    "\n",
    "out= cv2.VideoWriter('output_fast.avi', fourcc, fps, (width, height))\n",
    "#                      저장파일명    코덱  fps      크기\n",
    "\n",
    "while cap.isOpened():\n",
    "    ret, frame = cap.read()\n",
    "    \n",
    "    if not ret:\n",
    "        break\n",
    "    \n",
    "    out.write(frame)\n",
    "    cv2.imshow('video', frame)\n",
    "    if cv2.waitKey(30) == ord('q'):\n",
    "        break\n",
    "        \n",
    "out.release()\n",
    "cap.release()\n",
    "cv2.destroyAllWindows()"
   ]
  }
 ],
 "metadata": {
  "kernelspec": {
   "display_name": "Python 3 (ipykernel)",
   "language": "python",
   "name": "python3"
  },
  "language_info": {
   "codemirror_mode": {
    "name": "ipython",
    "version": 3
   },
   "file_extension": ".py",
   "mimetype": "text/x-python",
   "name": "python",
   "nbconvert_exporter": "python",
   "pygments_lexer": "ipython3",
   "version": "3.10.9"
  }
 },
 "nbformat": 4,
 "nbformat_minor": 5
}
